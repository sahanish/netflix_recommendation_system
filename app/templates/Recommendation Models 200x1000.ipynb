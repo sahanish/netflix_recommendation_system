{
 "cells": [
  {
   "cell_type": "code",
   "execution_count": 33,
   "metadata": {},
   "outputs": [],
   "source": [
    "import numpy as np\n",
    "np.random.seed(1337)\n",
    "import pickle\n",
    "import pandas as pd\n",
    "import matplotlib.pyplot as plt\n",
    "from sklearn.utils import shuffle\n",
    "from keras.models import Model\n",
    "from keras.layers import Input, Embedding, Dot, Add, Flatten\n",
    "from keras.regularizers import l2\n",
    "from keras.optimizers import SGD, Adam\n",
    "from keras.models import load_model"
   ]
  },
  {
   "cell_type": "code",
   "execution_count": 34,
   "metadata": {},
   "outputs": [],
   "source": [
    "import warnings\n",
    "warnings.filterwarnings('ignore')"
   ]
  },
  {
   "cell_type": "code",
   "execution_count": 61,
   "metadata": {},
   "outputs": [],
   "source": [
    "df = pd.read_csv('edited_ratings_subset_200x1000.csv')\n",
    "df = pd.DataFrame(df)"
   ]
  },
  {
   "cell_type": "code",
   "execution_count": 10,
   "metadata": {},
   "outputs": [],
   "source": [
    "# np.array(list(set(df.movie_idx.values))).shape\n",
    "#np.array(list(set(df.userId.values))).shape"
   ]
  },
  {
   "cell_type": "code",
   "execution_count": 45,
   "metadata": {},
   "outputs": [],
   "source": [
    "df = shuffle(df)"
   ]
  },
  {
   "cell_type": "code",
   "execution_count": 62,
   "metadata": {},
   "outputs": [
    {
     "data": {
      "text/plain": [
       "(200, 1000)"
      ]
     },
     "execution_count": 62,
     "metadata": {},
     "output_type": "execute_result"
    }
   ],
   "source": [
    "N = df.userId.max() + 1\n",
    "M = df.movie_idx.max() + 1\n",
    "(N,M)"
   ]
  },
  {
   "cell_type": "code",
   "execution_count": 12,
   "metadata": {},
   "outputs": [],
   "source": [
    "#Matrix Factorization"
   ]
  },
  {
   "cell_type": "code",
   "execution_count": 63,
   "metadata": {},
   "outputs": [],
   "source": [
    "cutoff = int(0.8*len(df))\n",
    "ratings_train = df.iloc[:cutoff]\n",
    "ratings_test = df.iloc[cutoff:]"
   ]
  },
  {
   "cell_type": "code",
   "execution_count": 64,
   "metadata": {},
   "outputs": [],
   "source": [
    "K = 10\n",
    "#K = 3\n",
    "mu = ratings_train.rating.mean()\n",
    "epochs=50\n",
    "#reg = 0.001\n",
    "#reg = 0.0005\n",
    "reg = 0\n",
    "u = Input(shape = (1,))\n",
    "m = Input(shape = (1,))\n",
    "u_embedding = Embedding(N,K,embeddings_regularizer = l2(reg))(u)\n",
    "m_embedding = Embedding(M,K,embeddings_regularizer = l2(reg))(m)\n",
    "\n",
    "u_bias = Embedding(N,1,embeddings_regularizer = l2(reg))(u)\n",
    "m_bias = Embedding(M,1,embeddings_regularizer = l2(reg))(m)\n",
    "x = Dot(axes = 2)([u_embedding,m_embedding])\n",
    "\n",
    "x = Add()([x, u_bias, m_bias])\n",
    "x = Flatten()(x)\n",
    "\n",
    "model = Model(inputs = [u, m], output = x)"
   ]
  },
  {
   "cell_type": "code",
   "execution_count": 65,
   "metadata": {},
   "outputs": [],
   "source": [
    "model.compile(\n",
    "loss = 'mse',\n",
    "optimizer = SGD(lr = 0.0000001, momentum = 0.9),\n",
    "#optimizer = 'adam',\n",
    "#optimizer = SGD(lr = 0.009),\n",
    "metrics = ['mse']\n",
    ")"
   ]
  },
  {
   "cell_type": "code",
   "execution_count": 66,
   "metadata": {},
   "outputs": [
    {
     "name": "stdout",
     "output_type": "stream",
     "text": [
      "Train on 35377 samples, validate on 8845 samples\n",
      "Epoch 1/50\n",
      "35377/35377 [==============================] - 2s 46us/step - loss: 0.9565 - mean_squared_error: 0.9565 - val_loss: 0.9684 - val_mean_squared_error: 0.9684\n",
      "Epoch 2/50\n",
      "35377/35377 [==============================] - 1s 31us/step - loss: 0.9565 - mean_squared_error: 0.9565 - val_loss: 0.9684 - val_mean_squared_error: 0.9684\n",
      "Epoch 3/50\n",
      "35377/35377 [==============================] - 1s 34us/step - loss: 0.9565 - mean_squared_error: 0.9565 - val_loss: 0.9684 - val_mean_squared_error: 0.9684\n",
      "Epoch 4/50\n",
      "35377/35377 [==============================] - 1s 34us/step - loss: 0.9565 - mean_squared_error: 0.9565 - val_loss: 0.9684 - val_mean_squared_error: 0.9684\n",
      "Epoch 5/50\n",
      "35377/35377 [==============================] - 1s 31us/step - loss: 0.9564 - mean_squared_error: 0.9564 - val_loss: 0.9684 - val_mean_squared_error: 0.9684\n",
      "Epoch 6/50\n",
      "35377/35377 [==============================] - 1s 31us/step - loss: 0.9564 - mean_squared_error: 0.9564 - val_loss: 0.9684 - val_mean_squared_error: 0.9684\n",
      "Epoch 7/50\n",
      "35377/35377 [==============================] - 1s 33us/step - loss: 0.9564 - mean_squared_error: 0.9564 - val_loss: 0.9684 - val_mean_squared_error: 0.9684\n",
      "Epoch 8/50\n",
      "35377/35377 [==============================] - 1s 31us/step - loss: 0.9564 - mean_squared_error: 0.9564 - val_loss: 0.9684 - val_mean_squared_error: 0.9684\n",
      "Epoch 9/50\n",
      "35377/35377 [==============================] - 1s 32us/step - loss: 0.9564 - mean_squared_error: 0.9564 - val_loss: 0.9684 - val_mean_squared_error: 0.9684\n",
      "Epoch 10/50\n",
      "35377/35377 [==============================] - 1s 32us/step - loss: 0.9564 - mean_squared_error: 0.9564 - val_loss: 0.9684 - val_mean_squared_error: 0.9684\n",
      "Epoch 11/50\n",
      "35377/35377 [==============================] - 1s 32us/step - loss: 0.9564 - mean_squared_error: 0.9564 - val_loss: 0.9684 - val_mean_squared_error: 0.9684\n",
      "Epoch 12/50\n",
      "35377/35377 [==============================] - 1s 34us/step - loss: 0.9564 - mean_squared_error: 0.9564 - val_loss: 0.9684 - val_mean_squared_error: 0.9684\n",
      "Epoch 13/50\n",
      "35377/35377 [==============================] - 1s 33us/step - loss: 0.9564 - mean_squared_error: 0.9564 - val_loss: 0.9684 - val_mean_squared_error: 0.9684\n",
      "Epoch 14/50\n",
      "35377/35377 [==============================] - 1s 31us/step - loss: 0.9564 - mean_squared_error: 0.9564 - val_loss: 0.9684 - val_mean_squared_error: 0.9684\n",
      "Epoch 15/50\n",
      "35377/35377 [==============================] - 1s 32us/step - loss: 0.9564 - mean_squared_error: 0.9564 - val_loss: 0.9684 - val_mean_squared_error: 0.9684\n",
      "Epoch 16/50\n",
      "35377/35377 [==============================] - 1s 32us/step - loss: 0.9564 - mean_squared_error: 0.9564 - val_loss: 0.9684 - val_mean_squared_error: 0.9684\n",
      "Epoch 17/50\n",
      "35377/35377 [==============================] - 1s 33us/step - loss: 0.9564 - mean_squared_error: 0.9564 - val_loss: 0.9684 - val_mean_squared_error: 0.9684\n",
      "Epoch 18/50\n",
      "35377/35377 [==============================] - 1s 32us/step - loss: 0.9564 - mean_squared_error: 0.9564 - val_loss: 0.9684 - val_mean_squared_error: 0.9684\n",
      "Epoch 19/50\n",
      "35377/35377 [==============================] - 1s 31us/step - loss: 0.9564 - mean_squared_error: 0.9564 - val_loss: 0.9684 - val_mean_squared_error: 0.9684\n",
      "Epoch 20/50\n",
      "35377/35377 [==============================] - 1s 31us/step - loss: 0.9564 - mean_squared_error: 0.9564 - val_loss: 0.9684 - val_mean_squared_error: 0.9684\n",
      "Epoch 21/50\n",
      "35377/35377 [==============================] - 1s 32us/step - loss: 0.9564 - mean_squared_error: 0.9564 - val_loss: 0.9684 - val_mean_squared_error: 0.9684\n",
      "Epoch 22/50\n",
      "35377/35377 [==============================] - 1s 32us/step - loss: 0.9564 - mean_squared_error: 0.9564 - val_loss: 0.9684 - val_mean_squared_error: 0.9684\n",
      "Epoch 23/50\n",
      "35377/35377 [==============================] - 1s 31us/step - loss: 0.9564 - mean_squared_error: 0.9564 - val_loss: 0.9684 - val_mean_squared_error: 0.9684\n",
      "Epoch 24/50\n",
      "35377/35377 [==============================] - 1s 34us/step - loss: 0.9564 - mean_squared_error: 0.9564 - val_loss: 0.9684 - val_mean_squared_error: 0.9684\n",
      "Epoch 25/50\n",
      "35377/35377 [==============================] - 1s 33us/step - loss: 0.9564 - mean_squared_error: 0.9564 - val_loss: 0.9684 - val_mean_squared_error: 0.9684\n",
      "Epoch 26/50\n",
      "35377/35377 [==============================] - 1s 33us/step - loss: 0.9564 - mean_squared_error: 0.9564 - val_loss: 0.9684 - val_mean_squared_error: 0.9684\n",
      "Epoch 27/50\n",
      "35377/35377 [==============================] - 1s 33us/step - loss: 0.9564 - mean_squared_error: 0.9564 - val_loss: 0.9684 - val_mean_squared_error: 0.9684\n",
      "Epoch 28/50\n",
      "35377/35377 [==============================] - 1s 33us/step - loss: 0.9564 - mean_squared_error: 0.9564 - val_loss: 0.9684 - val_mean_squared_error: 0.9684\n",
      "Epoch 29/50\n",
      "35377/35377 [==============================] - 1s 31us/step - loss: 0.9564 - mean_squared_error: 0.9564 - val_loss: 0.9684 - val_mean_squared_error: 0.9684\n",
      "Epoch 30/50\n",
      "35377/35377 [==============================] - 1s 33us/step - loss: 0.9564 - mean_squared_error: 0.9564 - val_loss: 0.9684 - val_mean_squared_error: 0.9684\n",
      "Epoch 31/50\n",
      "35377/35377 [==============================] - 1s 32us/step - loss: 0.9564 - mean_squared_error: 0.9564 - val_loss: 0.9684 - val_mean_squared_error: 0.9684\n",
      "Epoch 32/50\n",
      "35377/35377 [==============================] - 1s 39us/step - loss: 0.9564 - mean_squared_error: 0.9564 - val_loss: 0.9684 - val_mean_squared_error: 0.9684\n",
      "Epoch 33/50\n",
      "35377/35377 [==============================] - 1s 33us/step - loss: 0.9564 - mean_squared_error: 0.9564 - val_loss: 0.9684 - val_mean_squared_error: 0.9684\n",
      "Epoch 34/50\n",
      "35377/35377 [==============================] - 1s 34us/step - loss: 0.9564 - mean_squared_error: 0.9564 - val_loss: 0.9684 - val_mean_squared_error: 0.9684\n",
      "Epoch 35/50\n",
      "35377/35377 [==============================] - 1s 35us/step - loss: 0.9564 - mean_squared_error: 0.9564 - val_loss: 0.9684 - val_mean_squared_error: 0.9684\n",
      "Epoch 36/50\n",
      "35377/35377 [==============================] - 1s 36us/step - loss: 0.9564 - mean_squared_error: 0.9564 - val_loss: 0.9684 - val_mean_squared_error: 0.9684\n",
      "Epoch 37/50\n",
      "35377/35377 [==============================] - 1s 34us/step - loss: 0.9564 - mean_squared_error: 0.9564 - val_loss: 0.9684 - val_mean_squared_error: 0.9684\n",
      "Epoch 38/50\n",
      "35377/35377 [==============================] - 1s 33us/step - loss: 0.9564 - mean_squared_error: 0.9564 - val_loss: 0.9684 - val_mean_squared_error: 0.9684\n",
      "Epoch 39/50\n",
      "35377/35377 [==============================] - 1s 34us/step - loss: 0.9563 - mean_squared_error: 0.9563 - val_loss: 0.9684 - val_mean_squared_error: 0.9684\n",
      "Epoch 40/50\n",
      "35377/35377 [==============================] - 2s 43us/step - loss: 0.9563 - mean_squared_error: 0.9563 - val_loss: 0.9684 - val_mean_squared_error: 0.9684\n",
      "Epoch 41/50\n",
      "35377/35377 [==============================] - 1s 38us/step - loss: 0.9563 - mean_squared_error: 0.9563 - val_loss: 0.9684 - val_mean_squared_error: 0.9684\n",
      "Epoch 42/50\n",
      "35377/35377 [==============================] - 1s 40us/step - loss: 0.9563 - mean_squared_error: 0.9563 - val_loss: 0.9684 - val_mean_squared_error: 0.9684\n",
      "Epoch 43/50\n",
      "35377/35377 [==============================] - 1s 35us/step - loss: 0.9563 - mean_squared_error: 0.9563 - val_loss: 0.9684 - val_mean_squared_error: 0.9684\n",
      "Epoch 44/50\n",
      "35377/35377 [==============================] - 1s 36us/step - loss: 0.9563 - mean_squared_error: 0.9563 - val_loss: 0.9684 - val_mean_squared_error: 0.9684\n",
      "Epoch 45/50\n",
      "35377/35377 [==============================] - 1s 35us/step - loss: 0.9563 - mean_squared_error: 0.9563 - val_loss: 0.9684 - val_mean_squared_error: 0.9684\n",
      "Epoch 46/50\n",
      "35377/35377 [==============================] - 1s 36us/step - loss: 0.9563 - mean_squared_error: 0.9563 - val_loss: 0.9684 - val_mean_squared_error: 0.9684\n",
      "Epoch 47/50\n",
      "35377/35377 [==============================] - 1s 34us/step - loss: 0.9563 - mean_squared_error: 0.9563 - val_loss: 0.9684 - val_mean_squared_error: 0.9684\n",
      "Epoch 48/50\n",
      "35377/35377 [==============================] - 1s 34us/step - loss: 0.9563 - mean_squared_error: 0.9563 - val_loss: 0.9684 - val_mean_squared_error: 0.9684\n",
      "Epoch 49/50\n"
     ]
    },
    {
     "name": "stdout",
     "output_type": "stream",
     "text": [
      "35377/35377 [==============================] - 1s 32us/step - loss: 0.9563 - mean_squared_error: 0.9563 - val_loss: 0.9684 - val_mean_squared_error: 0.9684\n",
      "Epoch 50/50\n",
      "35377/35377 [==============================] - 1s 32us/step - loss: 0.9563 - mean_squared_error: 0.9563 - val_loss: 0.9684 - val_mean_squared_error: 0.9684\n"
     ]
    }
   ],
   "source": [
    "r = model.fit(\n",
    "    x = [ratings_train.userId.values, ratings_train.movie_idx.values],\n",
    "    y = ratings_train.rating.values - mu,\n",
    "    epochs = epochs,\n",
    "    batch_size = 64,\n",
    "    validation_data = (\n",
    "        [ratings_test.userId.values, ratings_test.movie_idx.values],\n",
    "        ratings_test.rating.values - mu\n",
    "    ),\n",
    "    shuffle = False\n",
    ")"
   ]
  },
  {
   "cell_type": "code",
   "execution_count": 67,
   "metadata": {},
   "outputs": [
    {
     "data": {
      "image/png": "[encoded data removed]",
      "text/plain": [
       "<Figure size 432x288 with 1 Axes>"
      ]
     },
     "metadata": {
      "needs_background": "light"
     },
     "output_type": "display_data"
    }
   ],
   "source": [
    "plt.plot(r.history['loss'],label = \"train_loss\")\n",
    "plt.plot(r.history['val_loss'],label = \"test_loss\")\n",
    "plt.legend()\n",
    "plt.show()"
   ]
  },
  {
   "cell_type": "code",
   "execution_count": 68,
   "metadata": {},
   "outputs": [],
   "source": [
    "model.save('MF_large_shf.h5')"
   ]
  },
  {
   "cell_type": "code",
   "execution_count": null,
   "metadata": {},
   "outputs": [],
   "source": []
  }
 ],
 "metadata": {
  "kernelspec": {
   "display_name": "Python 3.6 (tensorflow)",
   "language": "python",
   "name": "tensorflow"
  },
  "language_info": {
   "codemirror_mode": {
    "name": "ipython",
    "version": 3
   },
   "file_extension": ".py",
   "mimetype": "text/x-python",
   "name": "python",
   "nbconvert_exporter": "python",
   "pygments_lexer": "ipython3",
   "version": "3.6.8"
  }
 },
 "nbformat": 4,
 "nbformat_minor": 2
}
